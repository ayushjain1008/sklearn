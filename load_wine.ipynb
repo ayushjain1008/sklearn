{
 "cells": [
  {
   "cell_type": "code",
   "execution_count": 1,
   "id": "d8f7f188",
   "metadata": {},
   "outputs": [
    {
     "data": {
      "text/plain": [
       "array([[1.423e+01, 1.710e+00, 2.430e+00, ..., 1.040e+00, 3.920e+00,\n",
       "        1.065e+03],\n",
       "       [1.320e+01, 1.780e+00, 2.140e+00, ..., 1.050e+00, 3.400e+00,\n",
       "        1.050e+03],\n",
       "       [1.316e+01, 2.360e+00, 2.670e+00, ..., 1.030e+00, 3.170e+00,\n",
       "        1.185e+03],\n",
       "       ...,\n",
       "       [1.327e+01, 4.280e+00, 2.260e+00, ..., 5.900e-01, 1.560e+00,\n",
       "        8.350e+02],\n",
       "       [1.317e+01, 2.590e+00, 2.370e+00, ..., 6.000e-01, 1.620e+00,\n",
       "        8.400e+02],\n",
       "       [1.413e+01, 4.100e+00, 2.740e+00, ..., 6.100e-01, 1.600e+00,\n",
       "        5.600e+02]])"
      ]
     },
     "execution_count": 1,
     "metadata": {},
     "output_type": "execute_result"
    }
   ],
   "source": [
    "from sklearn.datasets import load_wine\n",
    "wine=load_wine()\n",
    "x=wine.data\n",
    "y=wine.target\n",
    "x\n"
   ]
  },
  {
   "cell_type": "code",
   "execution_count": 11,
   "id": "3d727121",
   "metadata": {},
   "outputs": [
    {
     "name": "stdout",
     "output_type": "stream",
     "text": [
      "No of samples= 178\n",
      "No of features= 13\n",
      "classes= [0 1 2]\n"
     ]
    },
    {
     "data": {
      "text/plain": [
       "1    71\n",
       "0    59\n",
       "2    48\n",
       "dtype: int64"
      ]
     },
     "execution_count": 11,
     "metadata": {},
     "output_type": "execute_result"
    }
   ],
   "source": [
    "import numpy as np\n",
    "import pandas as pd\n",
    "print('No of samples=',x.shape[0])\n",
    "print('No of features=',x.shape[1])\n",
    "print('classes=',np.unique(y))\n",
    "pd.DataFrame(y).value_counts()"
   ]
  },
  {
   "cell_type": "code",
   "execution_count": 19,
   "id": "207461d1",
   "metadata": {},
   "outputs": [
    {
     "data": {
      "text/plain": [
       "<AxesSubplot:xlabel='0', ylabel='count'>"
      ]
     },
     "execution_count": 19,
     "metadata": {},
     "output_type": "execute_result"
    },
    {
     "data": {
      "image/png": "[encoded data removed]",
      "text/plain": [
       "<Figure size 432x288 with 1 Axes>"
      ]
     },
     "metadata": {
      "needs_background": "light"
     },
     "output_type": "display_data"
    }
   ],
   "source": [
    "import seaborn as sns\n",
    "sns.countplot(data=pd.DataFrame(y),x=0)"
   ]
  },
  {
   "cell_type": "code",
   "execution_count": 20,
   "id": "1238a598",
   "metadata": {},
   "outputs": [
    {
     "name": "stdout",
     "output_type": "stream",
     "text": [
      "<class 'pandas.core.frame.DataFrame'>\n",
      "RangeIndex: 178 entries, 0 to 177\n",
      "Data columns (total 13 columns):\n",
      " #   Column  Non-Null Count  Dtype  \n",
      "---  ------  --------------  -----  \n",
      " 0   0       178 non-null    float64\n",
      " 1   1       178 non-null    float64\n",
      " 2   2       178 non-null    float64\n",
      " 3   3       178 non-null    float64\n",
      " 4   4       178 non-null    float64\n",
      " 5   5       178 non-null    float64\n",
      " 6   6       178 non-null    float64\n",
      " 7   7       178 non-null    float64\n",
      " 8   8       178 non-null    float64\n",
      " 9   9       178 non-null    float64\n",
      " 10  10      178 non-null    float64\n",
      " 11  11      178 non-null    float64\n",
      " 12  12      178 non-null    float64\n",
      "dtypes: float64(13)\n",
      "memory usage: 18.2 KB\n"
     ]
    }
   ],
   "source": [
    "pd.DataFrame(x).info()"
   ]
  },
  {
   "cell_type": "code",
   "execution_count": 21,
   "id": "e3d4f8cf",
   "metadata": {},
   "outputs": [
    {
     "data": {
      "text/html": [
       "<div>\n",
       "<style scoped>\n",
       "    .dataframe tbody tr th:only-of-type {\n",
       "        vertical-align: middle;\n",
       "    }\n",
       "\n",
       "    .dataframe tbody tr th {\n",
       "        vertical-align: top;\n",
       "    }\n",
       "\n",
       "    .dataframe thead th {\n",
       "        text-align: right;\n",
       "    }\n",
       "</style>\n",
       "<table border=\"1\" class=\"dataframe\">\n",
       "  <thead>\n",
       "    <tr style=\"text-align: right;\">\n",
       "      <th></th>\n",
       "      <th>0</th>\n",
       "    </tr>\n",
       "  </thead>\n",
       "  <tbody>\n",
       "    <tr>\n",
       "      <th>0</th>\n",
       "      <td>0</td>\n",
       "    </tr>\n",
       "    <tr>\n",
       "      <th>1</th>\n",
       "      <td>0</td>\n",
       "    </tr>\n",
       "    <tr>\n",
       "      <th>2</th>\n",
       "      <td>0</td>\n",
       "    </tr>\n",
       "    <tr>\n",
       "      <th>3</th>\n",
       "      <td>0</td>\n",
       "    </tr>\n",
       "    <tr>\n",
       "      <th>4</th>\n",
       "      <td>0</td>\n",
       "    </tr>\n",
       "    <tr>\n",
       "      <th>...</th>\n",
       "      <td>...</td>\n",
       "    </tr>\n",
       "    <tr>\n",
       "      <th>173</th>\n",
       "      <td>2</td>\n",
       "    </tr>\n",
       "    <tr>\n",
       "      <th>174</th>\n",
       "      <td>2</td>\n",
       "    </tr>\n",
       "    <tr>\n",
       "      <th>175</th>\n",
       "      <td>2</td>\n",
       "    </tr>\n",
       "    <tr>\n",
       "      <th>176</th>\n",
       "      <td>2</td>\n",
       "    </tr>\n",
       "    <tr>\n",
       "      <th>177</th>\n",
       "      <td>2</td>\n",
       "    </tr>\n",
       "  </tbody>\n",
       "</table>\n",
       "<p>178 rows × 1 columns</p>\n",
       "</div>"
      ],
      "text/plain": [
       "     0\n",
       "0    0\n",
       "1    0\n",
       "2    0\n",
       "3    0\n",
       "4    0\n",
       "..  ..\n",
       "173  2\n",
       "174  2\n",
       "175  2\n",
       "176  2\n",
       "177  2\n",
       "\n",
       "[178 rows x 1 columns]"
      ]
     },
     "execution_count": 21,
     "metadata": {},
     "output_type": "execute_result"
    }
   ],
   "source": []
  },
  {
   "cell_type": "code",
   "execution_count": 22,
   "id": "3610a4ea",
   "metadata": {},
   "outputs": [
    {
     "name": "stdout",
     "output_type": "stream",
     "text": [
      "[0 0 0 0 0 0 0 0 0 0 0 0 0 0 0 0 0 0 0 0 0 0 0 0 0 0 0 0 0 0 0 0 0 0 0 0 0\n",
      " 0 0 0 0 0 0 0 0 0 0 0 0 0 0 0 0 0 0 0 0 0 0 1 1 1 1 1 1 1 1 1 1 1 1 1 1 1\n",
      " 1 1 1 1 1 1 1 1 1 1 1 1 1 1 1 1 1 1 1 1 1 1 1 1 1 1 1 1 1 1 1 1 1 1 1 1 1\n",
      " 1 1 1 1 1 1 1 1 1 1 1 1 1 1 1 1 1 1 1 2 2 2 2 2 2 2 2 2 2 2 2 2 2 2 2 2 2\n",
      " 2 2 2 2 2 2 2 2 2 2 2 2 2 2 2 2 2 2 2 2 2 2 2 2 2 2 2 2 2 2]\n"
     ]
    }
   ],
   "source": [
    "from sklearn.preprocessing import LabelEncoder\n",
    "le=LabelEncoder()\n",
    "Y=le.fit_transform(y)\n",
    "print(Y)"
   ]
  },
  {
   "cell_type": "code",
   "execution_count": null,
   "id": "572eb6f6",
   "metadata": {},
   "outputs": [],
   "source": []
  },
  {
   "cell_type": "code",
   "execution_count": 31,
   "id": "da27b20f",
   "metadata": {},
   "outputs": [
    {
     "data": {
      "text/plain": [
       "(54, 13)"
      ]
     },
     "execution_count": 31,
     "metadata": {},
     "output_type": "execute_result"
    }
   ],
   "source": [
    "#train and test\n",
    "from sklearn.model_selection import train_test_split\n",
    "x_train,x_test,y_train,y_test=train_test_split(x,Y,test_size=0.3,random_state=0) #random state can be None or any non zero    \n",
    "x_test.shape"
   ]
  },
  {
   "cell_type": "code",
   "execution_count": 61,
   "id": "f85aa838",
   "metadata": {},
   "outputs": [],
   "source": [
    "#M1. Standardization\n",
    "from sklearn.preprocessing import StandardScaler\n",
    "sc=StandardScaler()\n",
    "sc.fit(x_train)\n",
    "x_train_std=sc.transform(x_train)\n",
    "x_test_std=sc.transform(x_test)"
   ]
  },
  {
   "cell_type": "code",
   "execution_count": 62,
   "id": "3d1e24df",
   "metadata": {},
   "outputs": [],
   "source": [
    "##m2. Normalization\n",
    "from sklearn.preprocessing import MinMaxScaler\n",
    "mms=MinMaxScaler()\n",
    "mms.fit(x_train)\n",
    "x_train_mms=mms.transform(x_train)\n",
    "x_test_mms=mms.transform(x_test)"
   ]
  },
  {
   "cell_type": "code",
   "execution_count": 63,
   "id": "702b6a35",
   "metadata": {},
   "outputs": [],
   "source": [
    "from sklearn.linear_model import Perceptron\n",
    "clf=Perceptron()"
   ]
  },
  {
   "cell_type": "code",
   "execution_count": 64,
   "id": "28cceaf2",
   "metadata": {},
   "outputs": [],
   "source": [
    "clf.fit(x_train,y_train)\n",
    "#y_pred_train=clf.predict(x_train)\n",
    "y_pred_test=clf.predict(x_test)"
   ]
  },
  {
   "cell_type": "code",
   "execution_count": 65,
   "id": "6b7276c5",
   "metadata": {},
   "outputs": [
    {
     "name": "stdout",
     "output_type": "stream",
     "text": [
      "Testing Acc= 0.5740740740740741\n"
     ]
    }
   ],
   "source": [
    "from sklearn.metrics import accuracy_score\n",
    "#train_acc=accuracy_score(y_train,y_pred_train)\n",
    "test_acc=accuracy_score(y_test,y_pred_test)\n",
    "#print(\"Training Acc=\",train_acc)\n",
    "print(\"Testing Acc=\",test_acc)"
   ]
  },
  {
   "cell_type": "code",
   "execution_count": 66,
   "id": "f15bc3a9",
   "metadata": {},
   "outputs": [
    {
     "name": "stdout",
     "output_type": "stream",
     "text": [
      "Testing Acc= 0.9444444444444444\n"
     ]
    },
    {
     "name": "stderr",
     "output_type": "stream",
     "text": [
      "E:\\Documents\\OSLAB\\anacondqa\\lib\\site-packages\\sklearn\\linear_model\\_logistic.py:763: ConvergenceWarning: lbfgs failed to converge (status=1):\n",
      "STOP: TOTAL NO. of ITERATIONS REACHED LIMIT.\n",
      "\n",
      "Increase the number of iterations (max_iter) or scale the data as shown in:\n",
      "    https://scikit-learn.org/stable/modules/preprocessing.html\n",
      "Please also refer to the documentation for alternative solver options:\n",
      "    https://scikit-learn.org/stable/modules/linear_model.html#logistic-regression\n",
      "  n_iter_i = _check_optimize_result(\n"
     ]
    }
   ],
   "source": [
    "from sklearn.linear_model import LogisticRegression\n",
    "clf=LogisticRegression()\n",
    "clf.fit(x_train,y_train)\n",
    "#y_pred_train=clf.predict(x_train)\n",
    "y_pred_test=clf.predict(x_test)\n",
    "from sklearn.metrics import accuracy_score\n",
    "#train_acc=accuracy_score(y_train,y_pred_train)\n",
    "test_acc=accuracy_score(y_test,y_pred_test)\n",
    "#print(\"Training Acc=\",train_acc)\n",
    "print(\"Testing Acc=\",test_acc)\n"
   ]
  },
  {
   "cell_type": "code",
   "execution_count": 67,
   "id": "bb612d0d",
   "metadata": {},
   "outputs": [
    {
     "name": "stdout",
     "output_type": "stream",
     "text": [
      "Testing Acc= 0.7222222222222222\n"
     ]
    }
   ],
   "source": [
    "from sklearn.neighbors import KNeighborsClassifier\n",
    "clf=KNeighborsClassifier()\n",
    "clf.fit(x_train,y_train)\n",
    "y_pred=clf.predict(x_test)\n",
    "from sklearn.metrics import accuracy_score\n",
    "test_acc=accuracy_score(y_test,y_pred)\n",
    "print(\"Testing Acc=\",test_acc)\n"
   ]
  },
  {
   "cell_type": "code",
   "execution_count": 68,
   "id": "29874df2",
   "metadata": {},
   "outputs": [
    {
     "name": "stdout",
     "output_type": "stream",
     "text": [
      "Testing Acc= 0.9259259259259259\n"
     ]
    }
   ],
   "source": [
    "from sklearn.tree import DecisionTreeClassifier\n",
    "clf= DecisionTreeClassifier()\n",
    "clf.fit(x_train,y_train)\n",
    "y_pred=clf.predict(x_test)\n",
    "from sklearn.metrics import accuracy_score\n",
    "test_acc=accuracy_score(y_test,y_pred)\n",
    "print(\"Testing Acc=\",test_acc)\n"
   ]
  },
  {
   "cell_type": "code",
   "execution_count": 69,
   "id": "6bf14838",
   "metadata": {},
   "outputs": [
    {
     "name": "stdout",
     "output_type": "stream",
     "text": [
      "Testing Acc= 0.9444444444444444\n"
     ]
    }
   ],
   "source": [
    "from sklearn.naive_bayes import GaussianNB\n",
    "clf= GaussianNB()\n",
    "clf.fit(x_train,y_train)\n",
    "y_pred=clf.predict(x_test)\n",
    "from sklearn.metrics import accuracy_score\n",
    "test_acc=accuracy_score(y_test,y_pred)\n",
    "print(\"Testing Acc=\",test_acc)"
   ]
  },
  {
   "cell_type": "code",
   "execution_count": 70,
   "id": "fc7cde0f",
   "metadata": {},
   "outputs": [
    {
     "name": "stdout",
     "output_type": "stream",
     "text": [
      "Testing Acc= 0.7777777777777778\n"
     ]
    }
   ],
   "source": [
    "from sklearn.svm import SVC\n",
    "clf= SVC()\n",
    "clf.fit(x_train,y_train)\n",
    "y_pred=clf.predict(x_test)\n",
    "from sklearn.metrics import accuracy_score\n",
    "test_acc=accuracy_score(y_test,y_pred)\n",
    "print(\"Testing Acc=\",test_acc)"
   ]
  },
  {
   "cell_type": "code",
   "execution_count": 76,
   "id": "b1b999bf",
   "metadata": {},
   "outputs": [
    {
     "name": "stdout",
     "output_type": "stream",
     "text": [
      "{'SVC': 1.0, 'GNB': 0.9444444444444444, 'KNN': 1.0, 'DT': 0.9444444444444444, 'LR': 1.0, 'PERC': 1.0}\n",
      "{'SVC': 0.007995843887329102, 'GNB': 0.007996559143066406, 'KNN': 0.008001089096069336, 'DT': 0.0, 'LR': 0.031995296478271484, 'PERC': 0.0}\n"
     ]
    }
   ],
   "source": [
    "from sklearn.svm import SVC\n",
    "from sklearn.naive_bayes import GaussianNB\n",
    "from sklearn.tree import DecisionTreeClassifier\n",
    "from sklearn.neighbors import KNeighborsClassifier\n",
    "from sklearn.linear_model import LogisticRegression\n",
    "from sklearn.linear_model import Perceptron\n",
    "clf1=SVC()\n",
    "clf2=GaussianNB()\n",
    "clf3=KNeighborsClassifier()\n",
    "clf4=DecisionTreeClassifier()\n",
    "clf5=LogisticRegression()\n",
    "clf6=Perceptron()\n",
    "clf=[clf1,clf2,clf3,clf4,clf5,clf6]\n",
    "name=['SVC','GNB','KNN','DT','LR','PERC']\n",
    "acc={}\n",
    "t={}\n",
    "import time\n",
    "for classifier,name in zip(clf,name):\n",
    "    st=time.time()\n",
    "    classifier.fit(x_train_mms,y_train)\n",
    "    y_pred=classifier.predict(x_test_mms)\n",
    "    et=time.time()\n",
    "    acc[name]=accuracy_score(y_pred,y_test)\n",
    "    t[name]=et-st\n",
    "print(acc)\n",
    "print(t)"
   ]
  },
  {
   "cell_type": "code",
   "execution_count": null,
   "id": "182da851",
   "metadata": {},
   "outputs": [],
   "source": [
    "import sklearn.ensemble import BaggingClassifier,RandomForestClassifier,ExtraTreesClassifier\n",
    "from sklearn.ensemble import AdaBoostClassifier,GradientBoostingClassifier\n",
    "from sklearn.ensemble import VotingClassfier\n"
   ]
  },
  {
   "cell_type": "code",
   "execution_count": null,
   "id": "b743766a",
   "metadata": {},
   "outputs": [],
   "source": []
  }
 ],
 "metadata": {
  "kernelspec": {
   "display_name": "Python 3",
   "language": "python",
   "name": "python3"
  },
  "language_info": {
   "codemirror_mode": {
    "name": "ipython",
    "version": 3
   },
   "file_extension": ".py",
   "mimetype": "text/x-python",
   "name": "python",
   "nbconvert_exporter": "python",
   "pygments_lexer": "ipython3",
   "version": "3.8.8"
  }
 },
 "nbformat": 4,
 "nbformat_minor": 5
}
